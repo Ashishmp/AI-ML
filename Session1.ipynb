{
  "nbformat": 4,
  "nbformat_minor": 0,
  "metadata": {
    "colab": {
      "provenance": []
    },
    "kernelspec": {
      "name": "python3",
      "display_name": "Python 3"
    },
    "language_info": {
      "name": "python"
    }
  },
  "cells": [
    {
      "cell_type": "markdown",
      "source": [
        "#Data Types"
      ],
      "metadata": {
        "id": "3wT-AOKWdxbt"
      }
    },
    {
      "cell_type": "markdown",
      "source": [
        "**Strings** are sequences of characters. They can be enclosed in single quotes (') or double quotes (\")."
      ],
      "metadata": {
        "id": "7VdE7cWEHv-v"
      }
    },
    {
      "cell_type": "code",
      "source": [
        "a = \"Hello World\"\n",
        "print(a)\n",
        "type(a)"
      ],
      "metadata": {
        "colab": {
          "base_uri": "https://localhost:8080/"
        },
        "id": "VUt2SQ4Ud068",
        "outputId": "3c6b5923-17cc-4df7-aff6-9c9d3373f5a6"
      },
      "execution_count": null,
      "outputs": [
        {
          "output_type": "stream",
          "name": "stdout",
          "text": [
            "Hello World\n"
          ]
        },
        {
          "output_type": "execute_result",
          "data": {
            "text/plain": [
              "str"
            ]
          },
          "metadata": {},
          "execution_count": 105
        }
      ]
    },
    {
      "cell_type": "code",
      "source": [],
      "metadata": {
        "id": "_NcryJbQ4fee"
      },
      "execution_count": null,
      "outputs": []
    },
    {
      "cell_type": "markdown",
      "source": [
        "**Integers**: Integers are whole numbers, positive or negative, without a decimal point"
      ],
      "metadata": {
        "id": "bMELm_KwHr29"
      }
    },
    {
      "cell_type": "code",
      "source": [
        "b = 23 #int\n",
        "print(b)\n",
        "type(b)"
      ],
      "metadata": {
        "colab": {
          "base_uri": "https://localhost:8080/"
        },
        "id": "QVe0v40Cd1AA",
        "outputId": "2cbcedd1-8e6c-494c-d492-ca5f894a9957"
      },
      "execution_count": null,
      "outputs": [
        {
          "output_type": "stream",
          "name": "stdout",
          "text": [
            "23\n"
          ]
        },
        {
          "output_type": "execute_result",
          "data": {
            "text/plain": [
              "int"
            ]
          },
          "metadata": {},
          "execution_count": 106
        }
      ]
    },
    {
      "cell_type": "markdown",
      "source": [
        "**Floats**: Floats are numbers with a decimal point."
      ],
      "metadata": {
        "id": "6aV-hr6qHuS0"
      }
    },
    {
      "cell_type": "code",
      "source": [
        "c = 23.452 #float\n",
        "print(c)\n",
        "type(c)"
      ],
      "metadata": {
        "colab": {
          "base_uri": "https://localhost:8080/"
        },
        "id": "WIUNtG4Bd1EC",
        "outputId": "80c87b49-e55e-4411-9c47-7748a6219dd6"
      },
      "execution_count": null,
      "outputs": [
        {
          "output_type": "stream",
          "name": "stdout",
          "text": [
            "23.452\n"
          ]
        },
        {
          "output_type": "execute_result",
          "data": {
            "text/plain": [
              "float"
            ]
          },
          "metadata": {},
          "execution_count": 107
        }
      ]
    },
    {
      "cell_type": "markdown",
      "source": [
        "## String operations"
      ],
      "metadata": {
        "id": "9FIxm0pXf3mU"
      }
    },
    {
      "cell_type": "markdown",
      "source": [
        "**String** :\tStrings are sequences of characters."
      ],
      "metadata": {
        "id": "GYw0GHDIH2S6"
      }
    },
    {
      "cell_type": "code",
      "source": [
        "line = \"This is a long String\""
      ],
      "metadata": {
        "id": "aBwn-hFjfasM"
      },
      "execution_count": null,
      "outputs": []
    },
    {
      "cell_type": "code",
      "source": [
        "print(line[-1])"
      ],
      "metadata": {
        "colab": {
          "base_uri": "https://localhost:8080/"
        },
        "id": "kPH6mU8Cfamy",
        "outputId": "6efceabe-665a-4cd8-9bb4-8014ec684811"
      },
      "execution_count": null,
      "outputs": [
        {
          "output_type": "stream",
          "name": "stdout",
          "text": [
            "g\n"
          ]
        }
      ]
    },
    {
      "cell_type": "code",
      "source": [
        "print(line[1])"
      ],
      "metadata": {
        "colab": {
          "base_uri": "https://localhost:8080/"
        },
        "id": "uTAZrhdifabv",
        "outputId": "3323bb53-8a56-47e5-b17a-81b08d728378"
      },
      "execution_count": null,
      "outputs": [
        {
          "output_type": "stream",
          "name": "stdout",
          "text": [
            "h\n"
          ]
        }
      ]
    },
    {
      "cell_type": "code",
      "source": [
        "print(line[1:9])"
      ],
      "metadata": {
        "colab": {
          "base_uri": "https://localhost:8080/"
        },
        "id": "NxTsFOyKetMR",
        "outputId": "36870a7b-6a0a-4784-b71d-7034c3446c4d"
      },
      "execution_count": null,
      "outputs": [
        {
          "output_type": "stream",
          "name": "stdout",
          "text": [
            "his is a\n"
          ]
        }
      ]
    },
    {
      "cell_type": "code",
      "source": [
        "print(line[5:-1])"
      ],
      "metadata": {
        "colab": {
          "base_uri": "https://localhost:8080/"
        },
        "id": "8zie29F2d1HO",
        "outputId": "4e4e5215-0b46-41e3-ff40-85e2be8c0d71"
      },
      "execution_count": null,
      "outputs": [
        {
          "output_type": "stream",
          "name": "stdout",
          "text": [
            "is a long Strin\n"
          ]
        }
      ]
    },
    {
      "cell_type": "code",
      "source": [
        "print(line[::-1])"
      ],
      "metadata": {
        "colab": {
          "base_uri": "https://localhost:8080/"
        },
        "id": "8Ok65rTfd1KJ",
        "outputId": "9281cef1-5664-4874-b494-4e0602bb9f3a"
      },
      "execution_count": null,
      "outputs": [
        {
          "output_type": "stream",
          "name": "stdout",
          "text": [
            "gnirtS gnol a si sihT\n"
          ]
        }
      ]
    },
    {
      "cell_type": "markdown",
      "source": [
        "## List"
      ],
      "metadata": {
        "id": "9dN9UviegOx6"
      }
    },
    {
      "cell_type": "markdown",
      "source": [
        "**Lists**: Lists are mutable sequences, which means that their elements can be changed."
      ],
      "metadata": {
        "id": "O9tCskSTIA4z"
      }
    },
    {
      "cell_type": "code",
      "source": [
        "list = [4,6,7,9]"
      ],
      "metadata": {
        "id": "2TSstk4Gd1N8"
      },
      "execution_count": null,
      "outputs": []
    },
    {
      "cell_type": "code",
      "source": [
        "print(list[2])"
      ],
      "metadata": {
        "colab": {
          "base_uri": "https://localhost:8080/"
        },
        "id": "XdaqXf9qget6",
        "outputId": "1b8b9b31-b0f3-446c-f429-b6d5adc50589"
      },
      "execution_count": null,
      "outputs": [
        {
          "output_type": "stream",
          "name": "stdout",
          "text": [
            "7\n"
          ]
        }
      ]
    },
    {
      "cell_type": "code",
      "source": [
        "print(list[-1])"
      ],
      "metadata": {
        "colab": {
          "base_uri": "https://localhost:8080/"
        },
        "id": "vtAzZE1Ygeqg",
        "outputId": "e2c732f4-8681-405d-b7f1-6dd8f9af8cf8"
      },
      "execution_count": null,
      "outputs": [
        {
          "output_type": "stream",
          "name": "stdout",
          "text": [
            "9\n"
          ]
        }
      ]
    },
    {
      "cell_type": "code",
      "source": [
        "fruits = [\"Apple\",\"Mango\",\"WaterMelon\"]"
      ],
      "metadata": {
        "id": "R2MpRwGHgenv"
      },
      "execution_count": null,
      "outputs": []
    },
    {
      "cell_type": "code",
      "source": [
        "fruits[2] = \"Banana\""
      ],
      "metadata": {
        "id": "Ye6SP5Oo5Dmm"
      },
      "execution_count": null,
      "outputs": []
    },
    {
      "cell_type": "code",
      "source": [
        "fruits"
      ],
      "metadata": {
        "colab": {
          "base_uri": "https://localhost:8080/"
        },
        "id": "0JQo8-N75IS3",
        "outputId": "c420985c-69b2-4a85-c064-ca66846a71a1"
      },
      "execution_count": null,
      "outputs": [
        {
          "output_type": "execute_result",
          "data": {
            "text/plain": [
              "['Apple', 'Mango', 'Banana']"
            ]
          },
          "metadata": {},
          "execution_count": 119
        }
      ]
    },
    {
      "cell_type": "code",
      "source": [
        "fruits[0]"
      ],
      "metadata": {
        "colab": {
          "base_uri": "https://localhost:8080/"
        },
        "id": "5TbXxR1Vgekw",
        "outputId": "db6e46fa-930e-46c5-9444-7bb2e60dfd91"
      },
      "execution_count": null,
      "outputs": [
        {
          "output_type": "execute_result",
          "data": {
            "text/plain": [
              "'Apple'"
            ],
            "application/vnd.google.colaboratory.intrinsic+json": {
              "type": "string"
            }
          },
          "metadata": {},
          "execution_count": 120
        }
      ]
    },
    {
      "cell_type": "code",
      "source": [
        "obj = [[\"apple\", \"Mango\"] , [\"Car\" , \"Plane\"]]"
      ],
      "metadata": {
        "id": "sYV7nr1wgeiA"
      },
      "execution_count": null,
      "outputs": []
    },
    {
      "cell_type": "code",
      "source": [
        "obj[0]"
      ],
      "metadata": {
        "colab": {
          "base_uri": "https://localhost:8080/"
        },
        "id": "QM-HMmETgefC",
        "outputId": "b4c3f452-7abc-4335-d1f2-7cb297f76a7c"
      },
      "execution_count": null,
      "outputs": [
        {
          "output_type": "execute_result",
          "data": {
            "text/plain": [
              "['apple', 'Mango']"
            ]
          },
          "metadata": {},
          "execution_count": 122
        }
      ]
    },
    {
      "cell_type": "code",
      "source": [
        "obj[0][1]"
      ],
      "metadata": {
        "colab": {
          "base_uri": "https://localhost:8080/"
        },
        "id": "KUZRuEjIgeb8",
        "outputId": "5e4f3e2d-d435-4277-9995-6a26c6935d1e"
      },
      "execution_count": null,
      "outputs": [
        {
          "output_type": "execute_result",
          "data": {
            "text/plain": [
              "'Mango'"
            ],
            "application/vnd.google.colaboratory.intrinsic+json": {
              "type": "string"
            }
          },
          "metadata": {},
          "execution_count": 123
        }
      ]
    },
    {
      "cell_type": "markdown",
      "source": [
        "## Dictionary"
      ],
      "metadata": {
        "id": "3YMsokqMhKRx"
      }
    },
    {
      "cell_type": "markdown",
      "source": [
        "**Dictionary**:\tDictionaries are mappings between keys and values."
      ],
      "metadata": {
        "id": "PYkI82uzIHGk"
      }
    },
    {
      "cell_type": "code",
      "source": [
        "dict = {'Key': \"Value\"}"
      ],
      "metadata": {
        "id": "AJbBGjp1geZF"
      },
      "execution_count": null,
      "outputs": []
    },
    {
      "cell_type": "code",
      "source": [
        "dict['Key']"
      ],
      "metadata": {
        "colab": {
          "base_uri": "https://localhost:8080/"
        },
        "id": "KI13vFMDhwbq",
        "outputId": "44aa30a0-4c21-4078-c7c5-e39897f6111f"
      },
      "execution_count": null,
      "outputs": [
        {
          "output_type": "execute_result",
          "data": {
            "text/plain": [
              "'Value'"
            ],
            "application/vnd.google.colaboratory.intrinsic+json": {
              "type": "string"
            }
          },
          "metadata": {},
          "execution_count": 125
        }
      ]
    },
    {
      "cell_type": "code",
      "source": [
        "dict1 = {'color': ['red' ,'green' ,'blue'], 'shape': ['square','rectangle', 'Circle']}\n",
        "dict1"
      ],
      "metadata": {
        "colab": {
          "base_uri": "https://localhost:8080/"
        },
        "id": "mX7VKArWgeWB",
        "outputId": "eefc2af7-033c-4f36-e4f6-f23ed5a3a777"
      },
      "execution_count": null,
      "outputs": [
        {
          "output_type": "execute_result",
          "data": {
            "text/plain": [
              "{'color': ['red', 'green', 'blue'], 'shape': ['square', 'rectangle', 'Circle']}"
            ]
          },
          "metadata": {},
          "execution_count": 126
        }
      ]
    },
    {
      "cell_type": "code",
      "source": [
        "dict1['color']"
      ],
      "metadata": {
        "colab": {
          "base_uri": "https://localhost:8080/"
        },
        "id": "GyARYzKk4ms0",
        "outputId": "6b26f043-83cc-4b19-af0d-6252ee5bb6b3"
      },
      "execution_count": null,
      "outputs": [
        {
          "output_type": "execute_result",
          "data": {
            "text/plain": [
              "['red', 'green', 'blue']"
            ]
          },
          "metadata": {},
          "execution_count": 127
        }
      ]
    },
    {
      "cell_type": "code",
      "source": [
        "dict1['color'][0]"
      ],
      "metadata": {
        "colab": {
          "base_uri": "https://localhost:8080/"
        },
        "id": "XoH5fypY4pRk",
        "outputId": "0dbee7ac-2610-47a7-e4dc-374b320273e0"
      },
      "execution_count": null,
      "outputs": [
        {
          "output_type": "execute_result",
          "data": {
            "text/plain": [
              "'red'"
            ],
            "application/vnd.google.colaboratory.intrinsic+json": {
              "type": "string"
            }
          },
          "metadata": {},
          "execution_count": 128
        }
      ]
    },
    {
      "cell_type": "markdown",
      "source": [
        "# Operator\n"
      ],
      "metadata": {
        "id": "LcIfTjhc5UCs"
      }
    },
    {
      "cell_type": "markdown",
      "source": [
        "## Arithmatic Operators"
      ],
      "metadata": {
        "id": "Yo0n5_rh7dXe"
      }
    },
    {
      "cell_type": "markdown",
      "source": [
        "\n",
        "**Arithmetic operators** are used to perform mathematical operations on numbers. The most common arithmetic operators are:\n",
        "\n",
        "| Operator | Description | Syntax |\n",
        "|---|---|---|\n",
        "| + | Addition | a + b |\n",
        "| - | Subtraction | a - b |\n",
        "| * | Multiplication | a * b |\n",
        "| ** | Exponentiation | a ** b |\n",
        "| % | Modulus | a % b |\n"
      ],
      "metadata": {
        "id": "Q-leprLV_fjD"
      }
    },
    {
      "cell_type": "code",
      "source": [
        "print (4+5)"
      ],
      "metadata": {
        "colab": {
          "base_uri": "https://localhost:8080/"
        },
        "id": "dh9CC3nH5Yqe",
        "outputId": "6cfd3c38-c8d4-4794-c84f-9ecd7403860b"
      },
      "execution_count": null,
      "outputs": [
        {
          "output_type": "stream",
          "name": "stdout",
          "text": [
            "9\n"
          ]
        }
      ]
    },
    {
      "cell_type": "code",
      "source": [
        "print(4/2)"
      ],
      "metadata": {
        "colab": {
          "base_uri": "https://localhost:8080/"
        },
        "id": "sjItttN05Ynb",
        "outputId": "8bd102a7-eb5e-436e-ea10-b8aeb1b675cd"
      },
      "execution_count": null,
      "outputs": [
        {
          "output_type": "stream",
          "name": "stdout",
          "text": [
            "2.0\n"
          ]
        }
      ]
    },
    {
      "cell_type": "code",
      "source": [
        "print(4 * 5)"
      ],
      "metadata": {
        "colab": {
          "base_uri": "https://localhost:8080/"
        },
        "id": "rmI8rcOP5Yj-",
        "outputId": "04f785b7-b8ab-43e2-d864-b5c052b4afc4"
      },
      "execution_count": null,
      "outputs": [
        {
          "output_type": "stream",
          "name": "stdout",
          "text": [
            "20\n"
          ]
        }
      ]
    },
    {
      "cell_type": "code",
      "source": [
        "print(4 **2)"
      ],
      "metadata": {
        "colab": {
          "base_uri": "https://localhost:8080/"
        },
        "id": "-ULNvbh07_Q0",
        "outputId": "eb2ce09a-b9f5-452a-e5d5-0fcce297bf02"
      },
      "execution_count": null,
      "outputs": [
        {
          "output_type": "stream",
          "name": "stdout",
          "text": [
            "16\n"
          ]
        }
      ]
    },
    {
      "cell_type": "code",
      "source": [
        "print(4^2)"
      ],
      "metadata": {
        "colab": {
          "base_uri": "https://localhost:8080/"
        },
        "id": "EU8kfUb05Ygz",
        "outputId": "5d60795c-184e-45d8-844a-5b70aa9d103e"
      },
      "execution_count": null,
      "outputs": [
        {
          "output_type": "stream",
          "name": "stdout",
          "text": [
            "6\n"
          ]
        }
      ]
    },
    {
      "cell_type": "code",
      "source": [
        "print(4%3)"
      ],
      "metadata": {
        "colab": {
          "base_uri": "https://localhost:8080/"
        },
        "id": "gHirk7D07yvU",
        "outputId": "07a5aca0-210c-4e8a-a610-d1599dee0a77"
      },
      "execution_count": null,
      "outputs": [
        {
          "output_type": "stream",
          "name": "stdout",
          "text": [
            "1\n"
          ]
        }
      ]
    },
    {
      "cell_type": "code",
      "source": [
        "print(\"3\" + \"5\")"
      ],
      "metadata": {
        "colab": {
          "base_uri": "https://localhost:8080/"
        },
        "id": "03oYAi_G5Yd6",
        "outputId": "570ec896-4426-49b6-fdd3-af3420f991a6"
      },
      "execution_count": null,
      "outputs": [
        {
          "output_type": "stream",
          "name": "stdout",
          "text": [
            "35\n"
          ]
        }
      ]
    },
    {
      "cell_type": "code",
      "source": [
        "print(\"apple\" + \"Banana\")"
      ],
      "metadata": {
        "colab": {
          "base_uri": "https://localhost:8080/"
        },
        "id": "6GD9yN1m5Yaz",
        "outputId": "f3745131-69de-4361-95d4-66d66f4f52ac"
      },
      "execution_count": null,
      "outputs": [
        {
          "output_type": "stream",
          "name": "stdout",
          "text": [
            "appleBanana\n"
          ]
        }
      ]
    },
    {
      "cell_type": "markdown",
      "source": [
        "## Comparison Operators"
      ],
      "metadata": {
        "id": "V2o_Qawf6kfF"
      }
    },
    {
      "cell_type": "markdown",
      "source": [
        "\n",
        "**Comparison operators** are used to compare two values and return a Boolean value, either True or False. The most common comparison operators are:\n",
        "\n",
        "| Operator | Description | Syntax |\n",
        "|---|---|---|\n",
        "| > | Greater than | a > b |\n",
        "| >= | Greater than or equal to | a >= b |\n",
        "| < | Less than | a < b |\n",
        "| <= | Less than or equal to | a <= b |\n",
        "| == | Equal to | a == b |\n",
        "| != | Not equal to | a != b |\n"
      ],
      "metadata": {
        "id": "H_qlRkx7-QZ9"
      }
    },
    {
      "cell_type": "code",
      "source": [
        "a = 5\n",
        "b = 4\n",
        "print(\"Is a greater than b? \" , a>b)\n",
        "print(\"\\nIs b greater than a? \" , a<b)\n",
        "print(\"\\nIs b greater than a? \" , a == b)"
      ],
      "metadata": {
        "colab": {
          "base_uri": "https://localhost:8080/"
        },
        "id": "6zuO3Wmt6kQt",
        "outputId": "0499d694-bf16-4a47-8ade-8e112dd30b7f"
      },
      "execution_count": null,
      "outputs": [
        {
          "output_type": "stream",
          "name": "stdout",
          "text": [
            "Is a greater than b?  True\n",
            "\n",
            "Is b greater than a?  False\n",
            "\n",
            "Is b greater than a?  False\n"
          ]
        }
      ]
    },
    {
      "cell_type": "code",
      "source": [
        "c = 5\n",
        "d = 5\n",
        "print(\"Is a greater than b? \" , a>b)\n",
        "print(\"\\nIs b greater than a? \" , a<b)\n",
        "print(\"\\nIs b greater than a? \" , a == b)\n",
        "print(\"\\nIs b greater than a? \" , a <= b)"
      ],
      "metadata": {
        "colab": {
          "base_uri": "https://localhost:8080/"
        },
        "id": "SKuvB6fX6wEe",
        "outputId": "d4d0a990-a1b0-4382-d53f-ba6b8a9e8327"
      },
      "execution_count": null,
      "outputs": [
        {
          "output_type": "stream",
          "name": "stdout",
          "text": [
            "Is a greater than b?  True\n",
            "\n",
            "Is b greater than a?  False\n",
            "\n",
            "Is b greater than a?  False\n",
            "\n",
            "Is b greater than a?  False\n"
          ]
        }
      ]
    },
    {
      "cell_type": "markdown",
      "source": [
        "## Logical Operators"
      ],
      "metadata": {
        "id": "rGFLrzPs7hqA"
      }
    },
    {
      "cell_type": "markdown",
      "source": [
        "**Logical operators** are used to combine two or more expressions and evaluate them as a single logical value. The most common logical operators are AND, OR, and NOT.\n",
        "\n",
        "1. AND: The AND operator returns True if both of its operands are True. Otherwise, it returns False.\n",
        "2. OR: The OR operator returns True if either of its operands is True. Otherwise, it returns False.\n",
        "3. NOT: The NOT operator negates its operand. If the operand is True, NOT returns False. Otherwise, NOT returns True.\n",
        "\n",
        "\n",
        "| Operator | Description | Syntax |\n",
        "|---|---|---|\n",
        "| & | Bitwise AND | a & b |\n",
        "|  l | Bitwise OR | a |\n",
        "| ~ | Bitwise NOT | ~ a |\n",
        "\n"
      ],
      "metadata": {
        "id": "R4FHea8L-c95"
      }
    },
    {
      "cell_type": "code",
      "source": [
        "print(1 & 1)"
      ],
      "metadata": {
        "colab": {
          "base_uri": "https://localhost:8080/"
        },
        "id": "K02mUZDA7lZk",
        "outputId": "080abe04-60eb-40db-f31d-06bc10633442"
      },
      "execution_count": null,
      "outputs": [
        {
          "output_type": "stream",
          "name": "stdout",
          "text": [
            "1\n"
          ]
        }
      ]
    },
    {
      "cell_type": "code",
      "source": [
        "print(1 | 0)"
      ],
      "metadata": {
        "colab": {
          "base_uri": "https://localhost:8080/"
        },
        "id": "vcGQiI7L7lVS",
        "outputId": "5899826d-5993-4e25-be40-d32df9574736"
      },
      "execution_count": null,
      "outputs": [
        {
          "output_type": "stream",
          "name": "stdout",
          "text": [
            "1\n"
          ]
        }
      ]
    },
    {
      "cell_type": "markdown",
      "source": [
        "# Control flow"
      ],
      "metadata": {
        "id": "ZCBTOCUa_xth"
      }
    },
    {
      "cell_type": "markdown",
      "source": [
        " **If statement**\n",
        " The if statement is used to execute a block of code if a certain condition is met. The syntax for an if statement is:\n",
        "```\n",
        "# if (condition):\n",
        "    statement\n",
        "elif (condition):\n",
        "    statement\n",
        ".\n",
        ".\n",
        "else:\n",
        "    statement\n",
        "```\n",
        "\n"
      ],
      "metadata": {
        "id": "0g09W0wwChJz"
      }
    },
    {
      "cell_type": "code",
      "source": [
        "a = 30\n",
        "if a > 3 and a <40:\n",
        "  print(\"list has the number\")\n",
        "else:\n",
        "  print(\"list does not have the number\")"
      ],
      "metadata": {
        "colab": {
          "base_uri": "https://localhost:8080/"
        },
        "id": "iRCteg5iAF3A",
        "outputId": "acbec35b-4d82-4d83-8d09-60457444e337"
      },
      "execution_count": null,
      "outputs": [
        {
          "output_type": "stream",
          "name": "stdout",
          "text": [
            "list has the number\n"
          ]
        }
      ]
    },
    {
      "cell_type": "markdown",
      "source": [
        "**Nested if Statments**"
      ],
      "metadata": {
        "id": "Osz2BYRJCoQP"
      }
    },
    {
      "cell_type": "code",
      "source": [
        "a = [1,2,34,5,6]\n",
        "if a[3] == 5:\n",
        "  print(\"list has the number\")\n",
        "  if a[1] == 2:\n",
        "    print(\"Bingo\")\n",
        "else:\n",
        "  print(\"list does not have the number\")"
      ],
      "metadata": {
        "colab": {
          "base_uri": "https://localhost:8080/"
        },
        "id": "JcrqEOxSCnlI",
        "outputId": "18886603-a7d8-4e42-d591-98e6d20c72c0"
      },
      "execution_count": null,
      "outputs": [
        {
          "output_type": "stream",
          "name": "stdout",
          "text": [
            "list has the number\n",
            "Bingo\n"
          ]
        }
      ]
    },
    {
      "cell_type": "code",
      "source": [
        "age  = 30\n",
        "if age < 20:\n",
        "  print(\"kid\")\n",
        "elif 20<age <50:\n",
        "  print(\"Adult\")\n",
        "else:\n",
        "  print(\"Old\")"
      ],
      "metadata": {
        "colab": {
          "base_uri": "https://localhost:8080/"
        },
        "id": "g3xP55kuAFwo",
        "outputId": "09c65cc6-1c01-4208-c8ef-3ddcc0b4f07f"
      },
      "execution_count": null,
      "outputs": [
        {
          "output_type": "stream",
          "name": "stdout",
          "text": [
            "Adult\n"
          ]
        }
      ]
    },
    {
      "cell_type": "markdown",
      "source": [
        "**For loop**\n",
        " The for loop is used to iterate over a sequence of elements. The syntax for a for loop is:\n",
        "\n",
        "\n",
        "```\n",
        "# for item in sequence:\n",
        "  # do something with item\n",
        "```\n",
        "\n"
      ],
      "metadata": {
        "id": "IRh3ANpMDwys"
      }
    },
    {
      "cell_type": "code",
      "source": [
        "fruits = [\"Apple\", \"Banana\", \"Mango\"]\n",
        "for i in fruits:\n",
        "  print(i)"
      ],
      "metadata": {
        "colab": {
          "base_uri": "https://localhost:8080/"
        },
        "id": "2cr2sIg3AFti",
        "outputId": "a39aa928-e03d-4b15-f4fb-3f67f533cba9"
      },
      "execution_count": null,
      "outputs": [
        {
          "output_type": "stream",
          "name": "stdout",
          "text": [
            "Apple\n",
            "Banana\n",
            "Mango\n"
          ]
        }
      ]
    },
    {
      "cell_type": "code",
      "source": [
        "for i in range(0,10,2):\n",
        "  print(i)"
      ],
      "metadata": {
        "colab": {
          "base_uri": "https://localhost:8080/"
        },
        "id": "XKOTSyBKAFqQ",
        "outputId": "3620c36a-9200-46ba-fb99-fe72e50f2fc8"
      },
      "execution_count": null,
      "outputs": [
        {
          "output_type": "stream",
          "name": "stdout",
          "text": [
            "0\n",
            "2\n",
            "4\n",
            "6\n",
            "8\n"
          ]
        }
      ]
    },
    {
      "cell_type": "markdown",
      "source": [
        "**While loop**\n",
        " is used to execute a block of code repeatedly until a certain condition is met. The syntax for a while loop is:\n",
        "\n",
        "```\n",
        "# while <condition>:\n",
        "    <block of code>\n",
        "```\n",
        "\n"
      ],
      "metadata": {
        "id": "RKbGV_LIB7DX"
      }
    },
    {
      "cell_type": "code",
      "source": [
        "a = 10\n",
        "while a >5:\n",
        "  print(a)\n",
        "  a = a-1"
      ],
      "metadata": {
        "colab": {
          "base_uri": "https://localhost:8080/"
        },
        "id": "6_GVGuTbAFnY",
        "outputId": "cad1c49b-c7f9-4df7-e425-8f8a3dbaa0b8"
      },
      "execution_count": null,
      "outputs": [
        {
          "output_type": "stream",
          "name": "stdout",
          "text": [
            "10\n",
            "9\n",
            "8\n",
            "7\n",
            "6\n"
          ]
        }
      ]
    },
    {
      "cell_type": "markdown",
      "source": [
        "# Functions"
      ],
      "metadata": {
        "id": "izVfepR3CRrk"
      }
    },
    {
      "cell_type": "markdown",
      "source": [
        "A **function** is a block of code that is executed when it is called. Functions can be used to perform a specific task\n",
        "\n",
        "```\n",
        "# def function_name(parameters):\n",
        "  # body of the function\n",
        "  return value\n",
        "\n",
        "```\n",
        "\n"
      ],
      "metadata": {
        "id": "GjZr-CvPDO0x"
      }
    },
    {
      "cell_type": "code",
      "source": [
        "def add(a,b):\n",
        " c = a + b\n",
        " return c"
      ],
      "metadata": {
        "id": "j7-fOYnoCRFS"
      },
      "execution_count": null,
      "outputs": []
    },
    {
      "cell_type": "code",
      "source": [
        "print(add(4,5))"
      ],
      "metadata": {
        "colab": {
          "base_uri": "https://localhost:8080/"
        },
        "id": "2g4-l0IEAFkZ",
        "outputId": "9bc9205f-173f-4f40-dde4-56e7dfbf0388"
      },
      "execution_count": null,
      "outputs": [
        {
          "output_type": "stream",
          "name": "stdout",
          "text": [
            "9\n"
          ]
        }
      ]
    }
  ]
}